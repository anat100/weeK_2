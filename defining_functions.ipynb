{
 "cells": [
  {
   "cell_type": "markdown",
   "id": "bdcff6ee",
   "metadata": {},
   "source": [
    "# Built-in Python Functions\n",
    "In Python, there is a basic set of about 70 functions called built-in functions. Many of them are shortcuts that make your everyday programming a lot easier. Here, the 25 most important ones are given.\n",
    "\n",
    "\n"
   ]
  },
  {
   "cell_type": "markdown",
   "id": "e2fe64cc",
   "metadata": {},
   "source": [
    "\n",
    "# type conversion\tI/O\tmath\titerables\tintrospection\n",
    "\n",
    "int\t       print abs\trange\ttype\n",
    "float\t   input round\tlen\t\n",
    "str\t       open\t sum\tsorted\t\n",
    "bool\t    min\treversed\t\n",
    "tuple\t   max\tenumerate\t\n",
    "list\t\t\t zip\t\n",
    "dict\t\t\t filter\t\n",
    "set"
   ]
  },
  {
   "cell_type": "code",
   "execution_count": 31,
   "id": "69ad76f4",
   "metadata": {},
   "outputs": [],
   "source": [
    "def find_name(data, name, year):\n",
    "    '''Returns records from a dictionary (data) of a baby name (name) in a given year (year).'''\n",
    "    \n",
    "    result = [] # define empty list\n",
    "\n",
    "    for record in data[year]: # loop through given year\n",
    "        if record[0] == name: # check if name in element\n",
    "            result.append(record) # append to list\n",
    "            \n",
    "    return result # return the list"
   ]
  },
  {
   "cell_type": "code",
   "execution_count": 30,
   "id": "6ee6fe99",
   "metadata": {},
   "outputs": [],
   "source": [
    "babynames = { 1985 : [('Rachel','F',16362) , ('Naomi','F',1078) , ('Estefania','F',22) ,\n",
    "                      ('Juluis','M',12) , ('Tyrone','M',22) , ('Rachel','M',77)],\n",
    "\n",
    "              2000 : [('Rachel','F',10680) , ('Naomi','F',1756) , ('Estefania','F',232) ,\n",
    "                      ('Juluis','M',485) , ('Tyrone','M',607) , ('Rachel','M',12)],\n",
    "\n",
    "              2015 : [('Rachel','F',1934) , ('Naomi','F',3772) , ('Estefania','F',195) , \n",
    "                      ('Juluis','M',1146) , ('Tyrone','M',233) , ('Naomi','M',5)] \n",
    "            }"
   ]
  },
  {
   "cell_type": "code",
   "execution_count": 22,
   "id": "8a184391",
   "metadata": {},
   "outputs": [
    {
     "data": {
      "text/plain": [
       "[('Rachel', 'F', 16362), ('Rachel', 'M', 77)]"
      ]
     },
     "execution_count": 22,
     "metadata": {},
     "output_type": "execute_result"
    }
   ],
   "source": [
    "# The input arguments are matched with the parameters of the function:\n",
    "\n",
    "find_name(babynames, 'Rachel', 1985)"
   ]
  },
  {
   "cell_type": "code",
   "execution_count": 23,
   "id": "f6676121",
   "metadata": {},
   "outputs": [
    {
     "data": {
      "text/plain": [
       "[('Rachel', 'F', 16362), ('Rachel', 'M', 77)]"
      ]
     },
     "execution_count": 23,
     "metadata": {},
     "output_type": "execute_result"
    }
   ],
   "source": [
    "find_name(data=babynames, name='Rachel', year=1985)"
   ]
  },
  {
   "cell_type": "code",
   "execution_count": 24,
   "id": "b771eea6",
   "metadata": {},
   "outputs": [
    {
     "name": "stdout",
     "output_type": "stream",
     "text": [
      "[('Rachel', 'F', 16362), ('Rachel', 'M', 77)]\n"
     ]
    }
   ],
   "source": [
    "# You can also store the result of a function call in a new variable:\n",
    "\n",
    "rachel_stats = find_name(babynames, 'Rachel', 1985)\n",
    "print(rachel_stats)"
   ]
  },
  {
   "cell_type": "code",
   "execution_count": 25,
   "id": "72c7cf4c",
   "metadata": {},
   "outputs": [
    {
     "name": "stdout",
     "output_type": "stream",
     "text": [
      "[('Rachel', 'F', 16362), ('Rachel', 'M', 77)]\n"
     ]
    }
   ],
   "source": [
    "# You can also store the result of a function call in a new variable:\n",
    "\n",
    "rachel_stats = find_name(babynames, 'Rachel', 1985)\n",
    "print(rachel_stats)"
   ]
  },
  {
   "cell_type": "code",
   "execution_count": 26,
   "id": "0081b5fa",
   "metadata": {},
   "outputs": [
    {
     "data": {
      "text/plain": [
       "[('Naomi', 'F', 3772), ('Naomi', 'M', 5)]"
      ]
     },
     "execution_count": 26,
     "metadata": {},
     "output_type": "execute_result"
    }
   ],
   "source": [
    "# You can also store the input value in a variable before passing it into the function:\n",
    "\n",
    "forename = 'Naomi'\n",
    "born = 2015\n",
    "\n",
    "find_name(babynames, forename, born)"
   ]
  },
  {
   "cell_type": "code",
   "execution_count": 27,
   "id": "e110aff2",
   "metadata": {},
   "outputs": [
    {
     "data": {
      "text/plain": [
       "[('Rachel', 'F', 10680),\n",
       " ('Naomi', 'F', 1756),\n",
       " ('Estefania', 'F', 232),\n",
       " ('Juluis', 'M', 485),\n",
       " ('Tyrone', 'M', 607),\n",
       " ('Rachel', 'M', 12)]"
      ]
     },
     "execution_count": 27,
     "metadata": {},
     "output_type": "execute_result"
    }
   ],
   "source": [
    "# we can call the keys\n",
    "\n",
    "babynames[2000]"
   ]
  },
  {
   "cell_type": "code",
   "execution_count": 12,
   "id": "d9719e33",
   "metadata": {},
   "outputs": [
    {
     "data": {
      "text/plain": [
       "('Rachel', 'F', 10680)"
      ]
     },
     "execution_count": 12,
     "metadata": {},
     "output_type": "execute_result"
    }
   ],
   "source": [
    "# this will take the 0 (or, the first) element from the '2000' list\n",
    "\n",
    "babynames[2000][0]"
   ]
  },
  {
   "cell_type": "code",
   "execution_count": null,
   "id": "49aaddc9",
   "metadata": {},
   "outputs": [],
   "source": []
  },
  {
   "cell_type": "markdown",
   "id": "34f0ade9",
   "metadata": {},
   "source": [
    "# Tasks"
   ]
  },
  {
   "cell_type": "code",
   "execution_count": 48,
   "id": "d1885654",
   "metadata": {},
   "outputs": [
    {
     "data": {
      "text/html": [
       "<div>\n",
       "<style scoped>\n",
       "    .dataframe tbody tr th:only-of-type {\n",
       "        vertical-align: middle;\n",
       "    }\n",
       "\n",
       "    .dataframe tbody tr th {\n",
       "        vertical-align: top;\n",
       "    }\n",
       "\n",
       "    .dataframe thead th {\n",
       "        text-align: right;\n",
       "    }\n",
       "</style>\n",
       "<table border=\"1\" class=\"dataframe\">\n",
       "  <thead>\n",
       "    <tr style=\"text-align: right;\">\n",
       "      <th></th>\n",
       "      <th>Mary</th>\n",
       "      <th>F</th>\n",
       "      <th>7065</th>\n",
       "    </tr>\n",
       "  </thead>\n",
       "  <tbody>\n",
       "    <tr>\n",
       "      <th>0</th>\n",
       "      <td>Anna</td>\n",
       "      <td>F</td>\n",
       "      <td>2604</td>\n",
       "    </tr>\n",
       "    <tr>\n",
       "      <th>1</th>\n",
       "      <td>Emma</td>\n",
       "      <td>F</td>\n",
       "      <td>2003</td>\n",
       "    </tr>\n",
       "    <tr>\n",
       "      <th>2</th>\n",
       "      <td>Elizabeth</td>\n",
       "      <td>F</td>\n",
       "      <td>1939</td>\n",
       "    </tr>\n",
       "    <tr>\n",
       "      <th>3</th>\n",
       "      <td>Minnie</td>\n",
       "      <td>F</td>\n",
       "      <td>1746</td>\n",
       "    </tr>\n",
       "    <tr>\n",
       "      <th>4</th>\n",
       "      <td>Margaret</td>\n",
       "      <td>F</td>\n",
       "      <td>1578</td>\n",
       "    </tr>\n",
       "    <tr>\n",
       "      <th>...</th>\n",
       "      <td>...</td>\n",
       "      <td>...</td>\n",
       "      <td>...</td>\n",
       "    </tr>\n",
       "    <tr>\n",
       "      <th>1994</th>\n",
       "      <td>Woodie</td>\n",
       "      <td>M</td>\n",
       "      <td>5</td>\n",
       "    </tr>\n",
       "    <tr>\n",
       "      <th>1995</th>\n",
       "      <td>Worthy</td>\n",
       "      <td>M</td>\n",
       "      <td>5</td>\n",
       "    </tr>\n",
       "    <tr>\n",
       "      <th>1996</th>\n",
       "      <td>Wright</td>\n",
       "      <td>M</td>\n",
       "      <td>5</td>\n",
       "    </tr>\n",
       "    <tr>\n",
       "      <th>1997</th>\n",
       "      <td>York</td>\n",
       "      <td>M</td>\n",
       "      <td>5</td>\n",
       "    </tr>\n",
       "    <tr>\n",
       "      <th>1998</th>\n",
       "      <td>Zachariah</td>\n",
       "      <td>M</td>\n",
       "      <td>5</td>\n",
       "    </tr>\n",
       "  </tbody>\n",
       "</table>\n",
       "<p>1999 rows × 3 columns</p>\n",
       "</div>"
      ],
      "text/plain": [
       "           Mary  F  7065\n",
       "0          Anna  F  2604\n",
       "1          Emma  F  2003\n",
       "2     Elizabeth  F  1939\n",
       "3        Minnie  F  1746\n",
       "4      Margaret  F  1578\n",
       "...         ... ..   ...\n",
       "1994     Woodie  M     5\n",
       "1995     Worthy  M     5\n",
       "1996     Wright  M     5\n",
       "1997       York  M     5\n",
       "1998  Zachariah  M     5\n",
       "\n",
       "[1999 rows x 3 columns]"
      ]
     },
     "execution_count": 48,
     "metadata": {},
     "output_type": "execute_result"
    }
   ],
   "source": [
    "import pandas as pd # DON'T FORGET TO IMPORT PANDAS FIRST!!!\n",
    "\n",
    "df = pd.read_csv('../data/yob1880.txt') # this is the path in my computer. I need this to be able to open the data\n",
    "df"
   ]
  },
  {
   "cell_type": "code",
   "execution_count": 42,
   "id": "8189c04e",
   "metadata": {},
   "outputs": [],
   "source": [
    "# task 1\n",
    "\n",
    "def make_path(year):\n",
    "    path = f'./data/yob{year}.txt'\n",
    "    return path\n",
    "\n"
   ]
  },
  {
   "cell_type": "code",
   "execution_count": 44,
   "id": "5a688346",
   "metadata": {},
   "outputs": [
    {
     "data": {
      "text/plain": [
       "'./data/yob1985.txt'"
      ]
     },
     "execution_count": 44,
     "metadata": {},
     "output_type": "execute_result"
    }
   ],
   "source": [
    "make_path(1985)"
   ]
  },
  {
   "cell_type": "code",
   "execution_count": null,
   "id": "86b7410a",
   "metadata": {},
   "outputs": [],
   "source": [
    "# task 2\n",
    "\n",
    "def read_year(___):\n",
    "    df = pd.____csv(path, ____=['name', 'gender', 'frequency'])\n",
    "   return df\n"
   ]
  },
  {
   "cell_type": "markdown",
   "id": "bcd1cb9d",
   "metadata": {},
   "source": [
    "# Project Challenges"
   ]
  },
  {
   "cell_type": "code",
   "execution_count": 50,
   "id": "1ba602e2",
   "metadata": {},
   "outputs": [
    {
     "ename": "SyntaxError",
     "evalue": "invalid syntax. Maybe you meant '==' or ':=' instead of '='? (644130165.py, line 2)",
     "output_type": "error",
     "traceback": [
      "\u001b[0;36m  Cell \u001b[0;32mIn[50], line 2\u001b[0;36m\u001b[0m\n\u001b[0;31m    path = (f'./data/yob{year}.txt', index_col=0)\u001b[0m\n\u001b[0m                                     ^\u001b[0m\n\u001b[0;31mSyntaxError\u001b[0m\u001b[0;31m:\u001b[0m invalid syntax. Maybe you meant '==' or ':=' instead of '='?\n"
     ]
    }
   ],
   "source": [
    "def parse_dataset(year):\n",
    "    path = (f'./data/yob{year}.txt', index_col=0) \n",
    "    df_1880 = pd.read_csv('./data/yob1880.txt')\n",
    "    \n",
    "    return path \n"
   ]
  },
  {
   "cell_type": "code",
   "execution_count": null,
   "id": "dcd5e2b5",
   "metadata": {},
   "outputs": [],
   "source": []
  },
  {
   "cell_type": "code",
   "execution_count": null,
   "id": "99b4eba6",
   "metadata": {},
   "outputs": [],
   "source": []
  }
 ],
 "metadata": {
  "kernelspec": {
   "display_name": "Python 3 (ipykernel)",
   "language": "python",
   "name": "python3"
  },
  "language_info": {
   "codemirror_mode": {
    "name": "ipython",
    "version": 3
   },
   "file_extension": ".py",
   "mimetype": "text/x-python",
   "name": "python",
   "nbconvert_exporter": "python",
   "pygments_lexer": "ipython3",
   "version": "3.11.4"
  }
 },
 "nbformat": 4,
 "nbformat_minor": 5
}
