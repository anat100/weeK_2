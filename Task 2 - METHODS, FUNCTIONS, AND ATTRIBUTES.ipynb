{
 "cells": [
  {
   "cell_type": "markdown",
   "id": "a00f6c83",
   "metadata": {},
   "source": [
    "# Task 2 - METHODS, FUNCTIONS, AND ATTRIBUTES"
   ]
  },
  {
   "cell_type": "code",
   "execution_count": 1,
   "id": "7be3729c",
   "metadata": {},
   "outputs": [],
   "source": [
    "import pandas as pd"
   ]
  },
  {
   "cell_type": "code",
   "execution_count": 1,
   "id": "e6bce847",
   "metadata": {},
   "outputs": [],
   "source": [
    "def parse_dataset(year):\n",
    "    file_path = f'./data/yob{year}.txt'\n",
    "    df_temp = pd.read_csv(file_path, names=['name', 'gender', 'frequency'])\n",
    "    df_temp['year'] = year\n",
    "    return df_temp"
   ]
  },
  {
   "cell_type": "code",
   "execution_count": 2,
   "id": "e51edf8c",
   "metadata": {},
   "outputs": [
    {
     "ename": "NameError",
     "evalue": "name 'pd' is not defined",
     "output_type": "error",
     "traceback": [
      "\u001b[0;31m---------------------------------------------------------------------------\u001b[0m",
      "\u001b[0;31mNameError\u001b[0m                                 Traceback (most recent call last)",
      "Cell \u001b[0;32mIn[2], line 1\u001b[0m\n\u001b[0;32m----> 1\u001b[0m df \u001b[38;5;241m=\u001b[39m pd\u001b[38;5;241m.\u001b[39mDataFrame(columns\u001b[38;5;241m=\u001b[39m[\u001b[38;5;124m'\u001b[39m\u001b[38;5;124mname\u001b[39m\u001b[38;5;124m'\u001b[39m, \u001b[38;5;124m'\u001b[39m\u001b[38;5;124mgender\u001b[39m\u001b[38;5;124m'\u001b[39m, \u001b[38;5;124m'\u001b[39m\u001b[38;5;124mfrequency\u001b[39m\u001b[38;5;124m'\u001b[39m, \u001b[38;5;124m'\u001b[39m\u001b[38;5;124myear\u001b[39m\u001b[38;5;124m'\u001b[39m])\n",
      "\u001b[0;31mNameError\u001b[0m: name 'pd' is not defined"
     ]
    }
   ],
   "source": [
    "df = pd.DataFrame(columns=['name', 'gender', 'frequency', 'year'])"
   ]
  },
  {
   "cell_type": "code",
   "execution_count": 3,
   "id": "8836148b",
   "metadata": {},
   "outputs": [
    {
     "ename": "NameError",
     "evalue": "name 'pd' is not defined",
     "output_type": "error",
     "traceback": [
      "\u001b[0;31m---------------------------------------------------------------------------\u001b[0m",
      "\u001b[0;31mNameError\u001b[0m                                 Traceback (most recent call last)",
      "Cell \u001b[0;32mIn[3], line 2\u001b[0m\n\u001b[1;32m      1\u001b[0m \u001b[38;5;28;01mfor\u001b[39;00m year \u001b[38;5;129;01min\u001b[39;00m \u001b[38;5;28mrange\u001b[39m(\u001b[38;5;241m1880\u001b[39m, \u001b[38;5;241m2021\u001b[39m):\n\u001b[0;32m----> 2\u001b[0m     df_temp \u001b[38;5;241m=\u001b[39m parse_dataset(year)\n\u001b[1;32m      3\u001b[0m     df \u001b[38;5;241m=\u001b[39m pd\u001b[38;5;241m.\u001b[39mconcat([df, df_temp])\n",
      "Cell \u001b[0;32mIn[1], line 3\u001b[0m, in \u001b[0;36mparse_dataset\u001b[0;34m(year)\u001b[0m\n\u001b[1;32m      1\u001b[0m \u001b[38;5;28;01mdef\u001b[39;00m \u001b[38;5;21mparse_dataset\u001b[39m(year):\n\u001b[1;32m      2\u001b[0m     file_path \u001b[38;5;241m=\u001b[39m \u001b[38;5;124mf\u001b[39m\u001b[38;5;124m'\u001b[39m\u001b[38;5;124m./data/yob\u001b[39m\u001b[38;5;132;01m{\u001b[39;00myear\u001b[38;5;132;01m}\u001b[39;00m\u001b[38;5;124m.txt\u001b[39m\u001b[38;5;124m'\u001b[39m\n\u001b[0;32m----> 3\u001b[0m     df_temp \u001b[38;5;241m=\u001b[39m pd\u001b[38;5;241m.\u001b[39mread_csv(file_path, names\u001b[38;5;241m=\u001b[39m[\u001b[38;5;124m'\u001b[39m\u001b[38;5;124mname\u001b[39m\u001b[38;5;124m'\u001b[39m, \u001b[38;5;124m'\u001b[39m\u001b[38;5;124mgender\u001b[39m\u001b[38;5;124m'\u001b[39m, \u001b[38;5;124m'\u001b[39m\u001b[38;5;124mfrequency\u001b[39m\u001b[38;5;124m'\u001b[39m])\n\u001b[1;32m      4\u001b[0m     df_temp[\u001b[38;5;124m'\u001b[39m\u001b[38;5;124myear\u001b[39m\u001b[38;5;124m'\u001b[39m] \u001b[38;5;241m=\u001b[39m year\n\u001b[1;32m      5\u001b[0m     \u001b[38;5;28;01mreturn\u001b[39;00m df_temp\n",
      "\u001b[0;31mNameError\u001b[0m: name 'pd' is not defined"
     ]
    }
   ],
   "source": [
    "for year in range(1880, 2021):\n",
    "    df_temp = parse_dataset(year)\n",
    "    df = pd.concat([df, df_temp])\n",
    "    \n",
    "\n",
    "    "
   ]
  },
  {
   "cell_type": "code",
   "execution_count": 19,
   "id": "26a48da3",
   "metadata": {},
   "outputs": [
    {
     "data": {
      "text/html": [
       "<div>\n",
       "<style scoped>\n",
       "    .dataframe tbody tr th:only-of-type {\n",
       "        vertical-align: middle;\n",
       "    }\n",
       "\n",
       "    .dataframe tbody tr th {\n",
       "        vertical-align: top;\n",
       "    }\n",
       "\n",
       "    .dataframe thead th {\n",
       "        text-align: right;\n",
       "    }\n",
       "</style>\n",
       "<table border=\"1\" class=\"dataframe\">\n",
       "  <thead>\n",
       "    <tr style=\"text-align: right;\">\n",
       "      <th></th>\n",
       "      <th>name</th>\n",
       "      <th>gender</th>\n",
       "      <th>frequency</th>\n",
       "      <th>year</th>\n",
       "    </tr>\n",
       "  </thead>\n",
       "  <tbody>\n",
       "    <tr>\n",
       "      <th>0</th>\n",
       "      <td>Mary</td>\n",
       "      <td>F</td>\n",
       "      <td>7065</td>\n",
       "      <td>1880</td>\n",
       "    </tr>\n",
       "    <tr>\n",
       "      <th>1</th>\n",
       "      <td>Anna</td>\n",
       "      <td>F</td>\n",
       "      <td>2604</td>\n",
       "      <td>1880</td>\n",
       "    </tr>\n",
       "    <tr>\n",
       "      <th>2</th>\n",
       "      <td>Emma</td>\n",
       "      <td>F</td>\n",
       "      <td>2003</td>\n",
       "      <td>1880</td>\n",
       "    </tr>\n",
       "    <tr>\n",
       "      <th>3</th>\n",
       "      <td>Elizabeth</td>\n",
       "      <td>F</td>\n",
       "      <td>1939</td>\n",
       "      <td>1880</td>\n",
       "    </tr>\n",
       "    <tr>\n",
       "      <th>4</th>\n",
       "      <td>Minnie</td>\n",
       "      <td>F</td>\n",
       "      <td>1746</td>\n",
       "      <td>1880</td>\n",
       "    </tr>\n",
       "    <tr>\n",
       "      <th>...</th>\n",
       "      <td>...</td>\n",
       "      <td>...</td>\n",
       "      <td>...</td>\n",
       "      <td>...</td>\n",
       "    </tr>\n",
       "    <tr>\n",
       "      <th>4045111</th>\n",
       "      <td>Zykier</td>\n",
       "      <td>M</td>\n",
       "      <td>5</td>\n",
       "      <td>2020</td>\n",
       "    </tr>\n",
       "    <tr>\n",
       "      <th>4045112</th>\n",
       "      <td>Zylus</td>\n",
       "      <td>M</td>\n",
       "      <td>5</td>\n",
       "      <td>2020</td>\n",
       "    </tr>\n",
       "    <tr>\n",
       "      <th>4045113</th>\n",
       "      <td>Zymari</td>\n",
       "      <td>M</td>\n",
       "      <td>5</td>\n",
       "      <td>2020</td>\n",
       "    </tr>\n",
       "    <tr>\n",
       "      <th>4045114</th>\n",
       "      <td>Zyn</td>\n",
       "      <td>M</td>\n",
       "      <td>5</td>\n",
       "      <td>2020</td>\n",
       "    </tr>\n",
       "    <tr>\n",
       "      <th>4045115</th>\n",
       "      <td>Zyran</td>\n",
       "      <td>M</td>\n",
       "      <td>5</td>\n",
       "      <td>2020</td>\n",
       "    </tr>\n",
       "  </tbody>\n",
       "</table>\n",
       "<p>4045116 rows × 4 columns</p>\n",
       "</div>"
      ],
      "text/plain": [
       "              name gender  frequency  year\n",
       "0             Mary      F       7065  1880\n",
       "1             Anna      F       2604  1880\n",
       "2             Emma      F       2003  1880\n",
       "3        Elizabeth      F       1939  1880\n",
       "4           Minnie      F       1746  1880\n",
       "...            ...    ...        ...   ...\n",
       "4045111     Zykier      M          5  2020\n",
       "4045112      Zylus      M          5  2020\n",
       "4045113     Zymari      M          5  2020\n",
       "4045114        Zyn      M          5  2020\n",
       "4045115      Zyran      M          5  2020\n",
       "\n",
       "[4045116 rows x 4 columns]"
      ]
     },
     "execution_count": 19,
     "metadata": {},
     "output_type": "execute_result"
    }
   ],
   "source": [
    "pd.read_csv('../data/all_names_babys.csv')"
   ]
  },
  {
   "cell_type": "code",
   "execution_count": null,
   "id": "3474585d",
   "metadata": {},
   "outputs": [],
   "source": []
  },
  {
   "cell_type": "markdown",
   "id": "22460cb9",
   "metadata": {},
   "source": [
    "# Task 3 - FILTERING DATAFRAMES\n",
    "    "
   ]
  },
  {
   "cell_type": "code",
   "execution_count": 6,
   "id": "199a05eb",
   "metadata": {},
   "outputs": [],
   "source": [
    "import pandas as pd"
   ]
  },
  {
   "cell_type": "code",
   "execution_count": 17,
   "id": "6bd83e36",
   "metadata": {},
   "outputs": [],
   "source": [
    "\n",
    "# 1. Read in data:\n",
    "\n",
    "pd.read_csv('../data/all_names_babys.csv')\n",
    "df = pd.read_csv('../data/all_names_babys.csv')\n"
   ]
  },
  {
   "cell_type": "code",
   "execution_count": 49,
   "id": "8a123b3a",
   "metadata": {},
   "outputs": [
    {
     "data": {
      "text/plain": [
       "0          False\n",
       "1          False\n",
       "2          False\n",
       "3          False\n",
       "4          False\n",
       "           ...  \n",
       "4045111    False\n",
       "4045112    False\n",
       "4045113    False\n",
       "4045114    False\n",
       "4045115    False\n",
       "Name: name, Length: 4045116, dtype: bool"
      ]
     },
     "execution_count": 49,
     "metadata": {},
     "output_type": "execute_result"
    }
   ],
   "source": [
    "# 2. Create a boolean mask for the name 'Martin'. It should just be a Series of True and False values.\n",
    "\n",
    "martin_filter = df['name'] == 'Martin'\n",
    "martin_filter"
   ]
  },
  {
   "cell_type": "code",
   "execution_count": 50,
   "id": "218b53cc",
   "metadata": {},
   "outputs": [
    {
     "data": {
      "text/html": [
       "<div>\n",
       "<style scoped>\n",
       "    .dataframe tbody tr th:only-of-type {\n",
       "        vertical-align: middle;\n",
       "    }\n",
       "\n",
       "    .dataframe tbody tr th {\n",
       "        vertical-align: top;\n",
       "    }\n",
       "\n",
       "    .dataframe thead th {\n",
       "        text-align: right;\n",
       "    }\n",
       "</style>\n",
       "<table border=\"1\" class=\"dataframe\">\n",
       "  <thead>\n",
       "    <tr style=\"text-align: right;\">\n",
       "      <th></th>\n",
       "      <th>name</th>\n",
       "      <th>gender</th>\n",
       "      <th>frequency</th>\n",
       "      <th>year</th>\n",
       "    </tr>\n",
       "  </thead>\n",
       "  <tbody>\n",
       "    <tr>\n",
       "      <th>986</th>\n",
       "      <td>Martin</td>\n",
       "      <td>M</td>\n",
       "      <td>357</td>\n",
       "      <td>1880</td>\n",
       "    </tr>\n",
       "    <tr>\n",
       "      <th>2986</th>\n",
       "      <td>Martin</td>\n",
       "      <td>M</td>\n",
       "      <td>357</td>\n",
       "      <td>1880</td>\n",
       "    </tr>\n",
       "    <tr>\n",
       "      <th>4983</th>\n",
       "      <td>Martin</td>\n",
       "      <td>M</td>\n",
       "      <td>327</td>\n",
       "      <td>1881</td>\n",
       "    </tr>\n",
       "    <tr>\n",
       "      <th>7009</th>\n",
       "      <td>Martin</td>\n",
       "      <td>M</td>\n",
       "      <td>387</td>\n",
       "      <td>1882</td>\n",
       "    </tr>\n",
       "    <tr>\n",
       "      <th>9160</th>\n",
       "      <td>Martin</td>\n",
       "      <td>M</td>\n",
       "      <td>377</td>\n",
       "      <td>1883</td>\n",
       "    </tr>\n",
       "    <tr>\n",
       "      <th>...</th>\n",
       "      <td>...</td>\n",
       "      <td>...</td>\n",
       "      <td>...</td>\n",
       "      <td>...</td>\n",
       "    </tr>\n",
       "    <tr>\n",
       "      <th>3902657</th>\n",
       "      <td>Martin</td>\n",
       "      <td>M</td>\n",
       "      <td>1396</td>\n",
       "      <td>2016</td>\n",
       "    </tr>\n",
       "    <tr>\n",
       "      <th>3935304</th>\n",
       "      <td>Martin</td>\n",
       "      <td>M</td>\n",
       "      <td>1282</td>\n",
       "      <td>2017</td>\n",
       "    </tr>\n",
       "    <tr>\n",
       "      <th>3967666</th>\n",
       "      <td>Martin</td>\n",
       "      <td>M</td>\n",
       "      <td>1295</td>\n",
       "      <td>2018</td>\n",
       "    </tr>\n",
       "    <tr>\n",
       "      <th>3999767</th>\n",
       "      <td>Martin</td>\n",
       "      <td>M</td>\n",
       "      <td>1250</td>\n",
       "      <td>2019</td>\n",
       "    </tr>\n",
       "    <tr>\n",
       "      <th>4031376</th>\n",
       "      <td>Martin</td>\n",
       "      <td>M</td>\n",
       "      <td>1164</td>\n",
       "      <td>2020</td>\n",
       "    </tr>\n",
       "  </tbody>\n",
       "</table>\n",
       "<p>483 rows × 4 columns</p>\n",
       "</div>"
      ],
      "text/plain": [
       "           name gender  frequency  year\n",
       "986      Martin      M        357  1880\n",
       "2986     Martin      M        357  1880\n",
       "4983     Martin      M        327  1881\n",
       "7009     Martin      M        387  1882\n",
       "9160     Martin      M        377  1883\n",
       "...         ...    ...        ...   ...\n",
       "3902657  Martin      M       1396  2016\n",
       "3935304  Martin      M       1282  2017\n",
       "3967666  Martin      M       1295  2018\n",
       "3999767  Martin      M       1250  2019\n",
       "4031376  Martin      M       1164  2020\n",
       "\n",
       "[483 rows x 4 columns]"
      ]
     },
     "execution_count": 50,
     "metadata": {},
     "output_type": "execute_result"
    }
   ],
   "source": [
    "# 3. Use this boolean mask to filter your original DataFrame and display a DataFrame which only has babies names 'Martin'. \n",
    "\n",
    "df.loc[martin_filter]\n"
   ]
  },
  {
   "cell_type": "code",
   "execution_count": 51,
   "id": "713cba50",
   "metadata": {},
   "outputs": [
    {
     "data": {
      "text/plain": [
       "0           True\n",
       "1           True\n",
       "2           True\n",
       "3          False\n",
       "4          False\n",
       "           ...  \n",
       "4045111    False\n",
       "4045112    False\n",
       "4045113    False\n",
       "4045114    False\n",
       "4045115    False\n",
       "Name: frequency, Length: 4045116, dtype: bool"
      ]
     },
     "execution_count": 51,
     "metadata": {},
     "output_type": "execute_result"
    }
   ],
   "source": [
    "# 5. Filter the combined DataFrame for a DataFrame which only has names that have a frequency over 2000\n",
    "frequency_2000 = df['frequency'] > 2000\n",
    "frequency_2000"
   ]
  },
  {
   "cell_type": "code",
   "execution_count": 57,
   "id": "b1e4c924",
   "metadata": {},
   "outputs": [
    {
     "data": {
      "text/plain": [
       "0          False\n",
       "1          False\n",
       "2          False\n",
       "3          False\n",
       "4          False\n",
       "           ...  \n",
       "4045111    False\n",
       "4045112    False\n",
       "4045113    False\n",
       "4045114    False\n",
       "4045115    False\n",
       "Length: 4045116, dtype: bool"
      ]
     },
     "execution_count": 57,
     "metadata": {},
     "output_type": "execute_result"
    }
   ],
   "source": [
    "# 6. Filter the combined DataFrame for a DataFrame which only has names that have a frequency over 2000 and for years starting with 2000. What is the most common name since 2000?\n",
    "\n",
    "frequency_2000_year_2000 = (df['frequency'] > 2000) & (df['year'] >= 2000)\n",
    "frequency_2000_year_2000\n"
   ]
  },
  {
   "cell_type": "code",
   "execution_count": 14,
   "id": "e1d57e09",
   "metadata": {},
   "outputs": [
    {
     "data": {
      "text/html": [
       "<div>\n",
       "<style scoped>\n",
       "    .dataframe tbody tr th:only-of-type {\n",
       "        vertical-align: middle;\n",
       "    }\n",
       "\n",
       "    .dataframe tbody tr th {\n",
       "        vertical-align: top;\n",
       "    }\n",
       "\n",
       "    .dataframe thead th {\n",
       "        text-align: right;\n",
       "    }\n",
       "</style>\n",
       "<table border=\"1\" class=\"dataframe\">\n",
       "  <thead>\n",
       "    <tr style=\"text-align: right;\">\n",
       "      <th></th>\n",
       "      <th>name</th>\n",
       "      <th>gender</th>\n",
       "      <th>frequency</th>\n",
       "      <th>year</th>\n",
       "    </tr>\n",
       "  </thead>\n",
       "  <tbody>\n",
       "    <tr>\n",
       "      <th>1335060</th>\n",
       "      <td>Emily</td>\n",
       "      <td>F</td>\n",
       "      <td>25957</td>\n",
       "      <td>2000</td>\n",
       "    </tr>\n",
       "    <tr>\n",
       "      <th>1335061</th>\n",
       "      <td>Hannah</td>\n",
       "      <td>F</td>\n",
       "      <td>23085</td>\n",
       "      <td>2000</td>\n",
       "    </tr>\n",
       "    <tr>\n",
       "      <th>1335062</th>\n",
       "      <td>Madison</td>\n",
       "      <td>F</td>\n",
       "      <td>19968</td>\n",
       "      <td>2000</td>\n",
       "    </tr>\n",
       "    <tr>\n",
       "      <th>1335063</th>\n",
       "      <td>Ashley</td>\n",
       "      <td>F</td>\n",
       "      <td>17998</td>\n",
       "      <td>2000</td>\n",
       "    </tr>\n",
       "    <tr>\n",
       "      <th>1335064</th>\n",
       "      <td>Sarah</td>\n",
       "      <td>F</td>\n",
       "      <td>17712</td>\n",
       "      <td>2000</td>\n",
       "    </tr>\n",
       "    <tr>\n",
       "      <th>...</th>\n",
       "      <td>...</td>\n",
       "      <td>...</td>\n",
       "      <td>...</td>\n",
       "      <td>...</td>\n",
       "    </tr>\n",
       "    <tr>\n",
       "      <th>4013727</th>\n",
       "      <td>Ximena</td>\n",
       "      <td>F</td>\n",
       "      <td>2034</td>\n",
       "      <td>2020</td>\n",
       "    </tr>\n",
       "    <tr>\n",
       "      <th>4013728</th>\n",
       "      <td>Eden</td>\n",
       "      <td>F</td>\n",
       "      <td>2033</td>\n",
       "      <td>2020</td>\n",
       "    </tr>\n",
       "    <tr>\n",
       "      <th>4013729</th>\n",
       "      <td>Ayla</td>\n",
       "      <td>F</td>\n",
       "      <td>2023</td>\n",
       "      <td>2020</td>\n",
       "    </tr>\n",
       "    <tr>\n",
       "      <th>4013730</th>\n",
       "      <td>Kylie</td>\n",
       "      <td>F</td>\n",
       "      <td>2018</td>\n",
       "      <td>2020</td>\n",
       "    </tr>\n",
       "    <tr>\n",
       "      <th>4013731</th>\n",
       "      <td>Elliana</td>\n",
       "      <td>F</td>\n",
       "      <td>2015</td>\n",
       "      <td>2020</td>\n",
       "    </tr>\n",
       "  </tbody>\n",
       "</table>\n",
       "<p>6650 rows × 4 columns</p>\n",
       "</div>"
      ],
      "text/plain": [
       "            name gender  frequency  year\n",
       "1335060    Emily      F      25957  2000\n",
       "1335061   Hannah      F      23085  2000\n",
       "1335062  Madison      F      19968  2000\n",
       "1335063   Ashley      F      17998  2000\n",
       "1335064    Sarah      F      17712  2000\n",
       "...          ...    ...        ...   ...\n",
       "4013727   Ximena      F       2034  2020\n",
       "4013728     Eden      F       2033  2020\n",
       "4013729     Ayla      F       2023  2020\n",
       "4013730    Kylie      F       2018  2020\n",
       "4013731  Elliana      F       2015  2020\n",
       "\n",
       "[6650 rows x 4 columns]"
      ]
     },
     "execution_count": 14,
     "metadata": {},
     "output_type": "execute_result"
    }
   ],
   "source": [
    "# 7. Filter the combined DataFrame for a DataFrame which only has names that have a frequency over 2000, \n",
    "# for years starting with 2000 and for only females. What is the most common name given to females since 2000?\n",
    "\n",
    "boolean_mask2=(df['frequency'] > 2000) & (df['year'] >= 2000) & (df['gender'] == 'F')\n",
    "df[boolean_mask2]"
   ]
  },
  {
   "cell_type": "code",
   "execution_count": 8,
   "id": "3dd61b5b",
   "metadata": {},
   "outputs": [
    {
     "data": {
      "text/plain": [
       "11.91"
      ]
     },
     "execution_count": 8,
     "metadata": {},
     "output_type": "execute_result"
    }
   ],
   "source": [
    "# 8. What is the percentage of names that have a frequency larger than 100?\n",
    "\n",
    "boolean_mask3 = df['frequency']>100\n",
    "count_fre_larger_100 = (boolean_mask3).sum()\n",
    "total_rows = len(df)\n",
    "percentage = (count_fre_larger_100 / (total_rows-1))*100\n",
    "percentage.round(2)"
   ]
  },
  {
   "cell_type": "code",
   "execution_count": 15,
   "id": "c8b89c3c",
   "metadata": {},
   "outputs": [
    {
     "name": "stdout",
     "output_type": "stream",
     "text": [
      "name         Linda\n",
      "gender           F\n",
      "frequency    99693\n",
      "year          1947\n",
      "Name: 2454621, dtype: object\n"
     ]
    }
   ],
   "source": [
    "# Using the combined DataFrame and the method .sort_values() figure out which name had the all time highest frequency and in which year.\n",
    "\n",
    "\n",
    "df_sorted = df.sort_values(by='frequency', ascending = False)\n",
    "print(df_sorted.iloc[0])"
   ]
  },
  {
   "cell_type": "code",
   "execution_count": 21,
   "id": "2ee824eb",
   "metadata": {
    "scrolled": true
   },
   "outputs": [
    {
     "name": "stdout",
     "output_type": "stream",
     "text": [
      "          name gender  frequency  year\n",
      "99       Emily      F        210  1880\n",
      "2099     Emily      F        210  1880\n",
      "4089     Emily      F        244  1881\n",
      "6028     Emily      F        272  1882\n",
      "8141     Emily      F        342  1883\n",
      "...        ...    ...        ...   ...\n",
      "3974654  Emily      M         11  2018\n",
      "3981501  Emily      F       8248  2019\n",
      "4008598  Emily      M          8  2019\n",
      "4013616  Emily      F       6908  2020\n",
      "4038229  Emily      M         11  2020\n",
      "\n",
      "[437 rows x 4 columns]\n"
     ]
    }
   ],
   "source": [
    "#Filter the combined dataset for the name Emily\n",
    "\n",
    "df_emily = df[df.name == 'Emily']\n",
    "print (df_emily)"
   ]
  },
  {
   "cell_type": "code",
   "execution_count": 53,
   "id": "5db42b03",
   "metadata": {},
   "outputs": [
    {
     "name": "stdout",
     "output_type": "stream",
     "text": [
      "          name gender  frequency  year\n",
      "99       Emily      F        210  1880\n",
      "2099     Emily      F        210  1880\n",
      "4089     Emily      F        244  1881\n",
      "6028     Emily      F        272  1882\n",
      "8141     Emily      F        342  1883\n",
      "...        ...    ...        ...   ...\n",
      "3883548  Emily      F      10994  2016\n",
      "3916610  Emily      F       9806  2017\n",
      "3949280  Emily      F       8706  2018\n",
      "3981501  Emily      F       8248  2019\n",
      "4013616  Emily      F       6908  2020\n",
      "\n",
      "[283 rows x 4 columns]\n"
     ]
    }
   ],
   "source": [
    "#Filter the name \"Emily\" for only females\n",
    "\n",
    "df_emily = df_emily[df_emily.gender == 'F']\n",
    "print (df_emily)"
   ]
  },
  {
   "cell_type": "code",
   "execution_count": 54,
   "id": "c93a7bf6",
   "metadata": {},
   "outputs": [],
   "source": [
    "#Save the DataFrame for later analysis\n",
    "\n",
    "df_emily.to_csv('../data/baby_names_emily.csv', index=False)"
   ]
  },
  {
   "cell_type": "code",
   "execution_count": 55,
   "id": "06384189",
   "metadata": {},
   "outputs": [
    {
     "data": {
      "text/plain": [
       "3333981"
      ]
     },
     "execution_count": 55,
     "metadata": {},
     "output_type": "execute_result"
    }
   ],
   "source": [
    "#Using your parse_dataset() function write a program that calculates the total number of babys for the year 2020 \n",
    "#and prints the number to the screen. Make sure to select the correct column to sum.\n",
    "\n",
    "df = parse_dataset(year=2020)\n",
    "df[\"frequency\"].sum()"
   ]
  },
  {
   "cell_type": "markdown",
   "id": "5a2df2b4",
   "metadata": {},
   "source": [
    "# 07_Matplotlib - Project Challenges"
   ]
  },
  {
   "cell_type": "code",
   "execution_count": 4,
   "id": "dc33b3c8",
   "metadata": {},
   "outputs": [],
   "source": [
    "import pandas as pd\n",
    "\n",
    "year = 1880\n",
    "\n",
    "def parse_dataset(year):\n",
    "    \n",
    "    file_path = f\"../data/yob{year}.txt\"\n",
    "    \n",
    "    names_df = pd.read_csv(file_path, names=['name', 'gender', 'frequency'])\n",
    "    \n",
    "    return names_df"
   ]
  },
  {
   "cell_type": "code",
   "execution_count": 5,
   "id": "2fc2027d",
   "metadata": {},
   "outputs": [],
   "source": [
    "# Make a empty dictionary that maps the column names year and total_births to empty lists:\n",
    "births_dict = {'year':[], 'total_births':[]}\n"
   ]
  },
  {
   "cell_type": "code",
   "execution_count": 6,
   "id": "e62d9d6d",
   "metadata": {},
   "outputs": [],
   "source": [
    "for year in range(1880,2023): #Loop over the years from 1880 to 2020\n",
    "    total_births = parse_dataset(year) #Use your parse_dataset(year) function to parse each year. \n",
    "    total_births = total_births['frequency'].sum() #Use the pandas.sum() method to calculate the sum of the frequencies (births)\n",
    "    births_dict['total_births'].append(total_births) #Append the result to the dictionary using births_dict['total_births'].append()\n",
    "    births_dict['year'].append(year) #Also append the year to births_dict['year'] \n",
    "#Create a yearly_births DataFrame by passing births_dictto pd.DataFrame()\n",
    "yearly_births = pd.DataFrame(births_dict)\n",
    "\n"
   ]
  },
  {
   "cell_type": "code",
   "execution_count": 7,
   "id": "6fd7c1f7",
   "metadata": {},
   "outputs": [
    {
     "data": {
      "text/html": [
       "<div>\n",
       "<style scoped>\n",
       "    .dataframe tbody tr th:only-of-type {\n",
       "        vertical-align: middle;\n",
       "    }\n",
       "\n",
       "    .dataframe tbody tr th {\n",
       "        vertical-align: top;\n",
       "    }\n",
       "\n",
       "    .dataframe thead th {\n",
       "        text-align: right;\n",
       "    }\n",
       "</style>\n",
       "<table border=\"1\" class=\"dataframe\">\n",
       "  <thead>\n",
       "    <tr style=\"text-align: right;\">\n",
       "      <th></th>\n",
       "      <th>year</th>\n",
       "      <th>total_births</th>\n",
       "    </tr>\n",
       "  </thead>\n",
       "  <tbody>\n",
       "    <tr>\n",
       "      <th>0</th>\n",
       "      <td>1880</td>\n",
       "      <td>201484</td>\n",
       "    </tr>\n",
       "    <tr>\n",
       "      <th>1</th>\n",
       "      <td>1881</td>\n",
       "      <td>192690</td>\n",
       "    </tr>\n",
       "    <tr>\n",
       "      <th>2</th>\n",
       "      <td>1882</td>\n",
       "      <td>221533</td>\n",
       "    </tr>\n",
       "    <tr>\n",
       "      <th>3</th>\n",
       "      <td>1883</td>\n",
       "      <td>216945</td>\n",
       "    </tr>\n",
       "    <tr>\n",
       "      <th>4</th>\n",
       "      <td>1884</td>\n",
       "      <td>243461</td>\n",
       "    </tr>\n",
       "    <tr>\n",
       "      <th>...</th>\n",
       "      <td>...</td>\n",
       "      <td>...</td>\n",
       "    </tr>\n",
       "    <tr>\n",
       "      <th>138</th>\n",
       "      <td>2018</td>\n",
       "      <td>3511750</td>\n",
       "    </tr>\n",
       "    <tr>\n",
       "      <th>139</th>\n",
       "      <td>2019</td>\n",
       "      <td>3465821</td>\n",
       "    </tr>\n",
       "    <tr>\n",
       "      <th>140</th>\n",
       "      <td>2020</td>\n",
       "      <td>3333981</td>\n",
       "    </tr>\n",
       "    <tr>\n",
       "      <th>141</th>\n",
       "      <td>2021</td>\n",
       "      <td>3379713</td>\n",
       "    </tr>\n",
       "    <tr>\n",
       "      <th>142</th>\n",
       "      <td>2022</td>\n",
       "      <td>3361896</td>\n",
       "    </tr>\n",
       "  </tbody>\n",
       "</table>\n",
       "<p>143 rows × 2 columns</p>\n",
       "</div>"
      ],
      "text/plain": [
       "     year  total_births\n",
       "0    1880        201484\n",
       "1    1881        192690\n",
       "2    1882        221533\n",
       "3    1883        216945\n",
       "4    1884        243461\n",
       "..    ...           ...\n",
       "138  2018       3511750\n",
       "139  2019       3465821\n",
       "140  2020       3333981\n",
       "141  2021       3379713\n",
       "142  2022       3361896\n",
       "\n",
       "[143 rows x 2 columns]"
      ]
     },
     "execution_count": 7,
     "metadata": {},
     "output_type": "execute_result"
    }
   ],
   "source": [
    "yearly_births"
   ]
  },
  {
   "cell_type": "code",
   "execution_count": 11,
   "id": "58459cb3",
   "metadata": {},
   "outputs": [
    {
     "data": {
      "text/plain": [
       "<Axes: >"
      ]
     },
     "execution_count": 11,
     "metadata": {},
     "output_type": "execute_result"
    },
    {
     "data": {
      "image/png": "[encoded data removed]",
      "text/plain": [
       "<Figure size 640x480 with 1 Axes>"
      ]
     },
     "metadata": {},
     "output_type": "display_data"
    }
   ],
   "source": [
    "# use panda to do a quick overview over your data\n",
    "\n",
    "yearly_births.plot()"
   ]
  },
  {
   "cell_type": "markdown",
   "id": "8ed03f57",
   "metadata": {},
   "source": [
    "## Step 2 - Plotting"
   ]
  },
  {
   "cell_type": "code",
   "execution_count": null,
   "id": "5209e8da",
   "metadata": {},
   "outputs": [],
   "source": []
  },
  {
   "cell_type": "code",
   "execution_count": 10,
   "id": "adac8a61",
   "metadata": {},
   "outputs": [
    {
     "data": {
      "text/plain": [
       "[<matplotlib.lines.Line2D at 0x11f1c3410>]"
      ]
     },
     "execution_count": 10,
     "metadata": {},
     "output_type": "execute_result"
    },
    {
     "data": {
      "image/png": "[encoded data removed]",
      "text/plain": [
       "<Figure size 640x480 with 1 Axes>"
      ]
     },
     "metadata": {},
     "output_type": "display_data"
    }
   ],
   "source": [
    "# use matplotliob to make a more detailed plot but adding a legend, title and and axis labels\n",
    "\n",
    "\n",
    "from matplotlib import pyplot as plt\n",
    "\n",
    "plt.style.use('ggplot')\n",
    "plt.title('Total Births from 1880-2022')\n",
    "plt.ylabel('Total Births')\n",
    "plt.xlabel('Years')\n",
    "\n",
    "x_vals = yearly_births['year']\n",
    "y_vals = yearly_births['total_births']\n",
    "\n",
    "plt.plot(x_vals, y_vals, label='Total Births from 1880-2022')"
   ]
  },
  {
   "cell_type": "code",
   "execution_count": null,
   "id": "c8891b0a",
   "metadata": {},
   "outputs": [],
   "source": []
  },
  {
   "cell_type": "code",
   "execution_count": null,
   "id": "e3ab82a9",
   "metadata": {},
   "outputs": [],
   "source": []
  },
  {
   "cell_type": "code",
   "execution_count": null,
   "id": "152ed423",
   "metadata": {},
   "outputs": [],
   "source": []
  }
 ],
 "metadata": {
  "kernelspec": {
   "display_name": "Python 3 (ipykernel)",
   "language": "python",
   "name": "python3"
  },
  "language_info": {
   "codemirror_mode": {
    "name": "ipython",
    "version": 3
   },
   "file_extension": ".py",
   "mimetype": "text/x-python",
   "name": "python",
   "nbconvert_exporter": "python",
   "pygments_lexer": "ipython3",
   "version": "3.11.4"
  }
 },
 "nbformat": 4,
 "nbformat_minor": 5
}
