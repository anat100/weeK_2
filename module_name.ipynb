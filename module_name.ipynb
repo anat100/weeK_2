{
 "cells": [
  {
   "cell_type": "code",
   "execution_count": 1,
   "id": "11ad532b",
   "metadata": {},
   "outputs": [],
   "source": [
    "def say_hello(name):\n",
    "\treturn f'hello {name}'\n",
    "\t\n",
    "\t\n",
    "def lets_talk(name, subject):\n",
    "\treturn f'{name}, I would like to talk to you about {subject}'\n",
    "\t\n",
    "\n",
    "def say_goodbye(name):\n",
    "\treturn f'goodbye {name}'"
   ]
  },
  {
   "cell_type": "code",
   "execution_count": null,
   "id": "f2ab928a",
   "metadata": {},
   "outputs": [],
   "source": []
  }
 ],
 "metadata": {
  "kernelspec": {
   "display_name": "Python 3 (ipykernel)",
   "language": "python",
   "name": "python3"
  },
  "language_info": {
   "codemirror_mode": {
    "name": "ipython",
    "version": 3
   },
   "file_extension": ".py",
   "mimetype": "text/x-python",
   "name": "python",
   "nbconvert_exporter": "python",
   "pygments_lexer": "ipython3",
   "version": "3.11.4"
  }
 },
 "nbformat": 4,
 "nbformat_minor": 5
}
