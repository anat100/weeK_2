{
 "cells": [
  {
   "cell_type": "markdown",
   "id": "ac4aab98",
   "metadata": {},
   "source": [
    "# Built-in Python Functions\n",
    "In Python, there is a basic set of about 70 functions called built-in functions. Many of them are shortcuts that make your everyday programming a lot easier. Here, the 25 most important ones are given.\n",
    "\n",
    "\n"
   ]
  },
  {
   "cell_type": "markdown",
   "id": "6ebe2ffb",
   "metadata": {},
   "source": [
    "\n",
    "# type conversion\tI/O\tmath\titerables\tintrospection\n",
    "\n",
    "## type conversion\tI/O\tmath\titerables\tintrospection\n",
    "\n",
    "int\t       print abs\trange\ttype\n",
    "float\t   input round\tlen\t\n",
    "str\t       open\t sum\tsorted\t\n",
    "bool\t    min\treversed\t\n",
    "tuple\t   max\tenumerate\t\n",
    "list\t\t\t zip\t\n",
    "dict\t\t\t filter\t\n",
    "set"
   ]
  },
  {
   "cell_type": "code",
   "execution_count": 2,
   "id": "715a4be8",
   "metadata": {},
   "outputs": [],
   "source": [
    "def find_name(data, name, year):\n",
    "    '''Returns records from a dictionary (data) of a baby name (name) in a given year (year).'''\n",
    "    \n",
    "    result = []\n",
    "\n",
    "    for record in data[year]:\n",
    "        if record[0] == name:\n",
    "            result.append(record)\n",
    "            \n",
    "    return result"
   ]
  },
  {
   "cell_type": "code",
   "execution_count": 3,
   "id": "c1427cde",
   "metadata": {},
   "outputs": [],
   "source": [
    "babynames = { 1985 : [('Rachel','F',16362) , ('Naomi','F',1078) , ('Estefania','F',22) ,\n",
    "                      ('Juluis','M',12) , ('Tyrone','M',22) , ('Rachel','M',77)],\n",
    "\n",
    "              2000 : [('Rachel','F',10680) , ('Naomi','F',1756) , ('Estefania','F',232) ,\n",
    "                      ('Juluis','M',485) , ('Tyrone','M',607) , ('Rachel','M',12)],\n",
    "\n",
    "              2015 : [('Rachel','F',1934) , ('Naomi','F',3772) , ('Estefania','F',195) , \n",
    "                      ('Juluis','M',1146) , ('Tyrone','M',233) , ('Naomi','M',5)] \n",
    "            }"
   ]
  },
  {
   "cell_type": "code",
   "execution_count": 4,
   "id": "dba86ea6",
   "metadata": {},
   "outputs": [
    {
     "data": {
      "text/plain": [
       "[('Rachel', 'F', 16362), ('Rachel', 'M', 77)]"
      ]
     },
     "execution_count": 4,
     "metadata": {},
     "output_type": "execute_result"
    }
   ],
   "source": [
    "find_name(babynames, 'Rachel', 1985)"
   ]
  },
  {
   "cell_type": "code",
   "execution_count": 5,
   "id": "1bbb9204",
   "metadata": {},
   "outputs": [
    {
     "data": {
      "text/plain": [
       "[('Rachel', 'F', 16362), ('Rachel', 'M', 77)]"
      ]
     },
     "execution_count": 5,
     "metadata": {},
     "output_type": "execute_result"
    }
   ],
   "source": [
    "find_name(data=babynames, name='Rachel', year=1985)"
   ]
  },
  {
   "cell_type": "code",
   "execution_count": null,
   "id": "5f15d8ab",
   "metadata": {},
   "outputs": [],
   "source": [
    "# You can also store the result of a function call in a new variable:\n",
    "\n",
    "rachel_stats = find_name(babynames, 'Rachel', 1985)\n",
    "print(rachel_stats)"
   ]
  }
 ],
 "metadata": {
  "kernelspec": {
   "display_name": "Python 3 (ipykernel)",
   "language": "python",
   "name": "python3"
  },
  "language_info": {
   "codemirror_mode": {
    "name": "ipython",
    "version": 3
   },
   "file_extension": ".py",
   "mimetype": "text/x-python",
   "name": "python",
   "nbconvert_exporter": "python",
   "pygments_lexer": "ipython3",
   "version": "3.11.4"
  }
 },
 "nbformat": 4,
 "nbformat_minor": 5
}
